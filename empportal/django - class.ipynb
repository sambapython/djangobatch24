{
 "cells": [
  {
   "cell_type": "code",
   "execution_count": 1,
   "metadata": {},
   "outputs": [
    {
     "name": "stdout",
     "output_type": "stream",
     "text": [
      "cat1\n"
     ]
    }
   ],
   "source": [
    "class Category:\n",
    "    def __init__(self, name):\n",
    "        self.name=name\n",
    "    def get(self):\n",
    "        print(self.name)\n",
    "cat1 = Category(name=\"cat1\")\n",
    "cat1.get()"
   ]
  },
  {
   "cell_type": "code",
   "execution_count": 2,
   "metadata": {},
   "outputs": [
    {
     "name": "stdout",
     "output_type": "stream",
     "text": [
      "cat1\n",
      "{'name': 'cat2'}\n"
     ]
    }
   ],
   "source": [
    "class Category:\n",
    "    def __init__(self, name):\n",
    "        self.name=name\n",
    "    def get(self):\n",
    "        print(self.name)\n",
    "cat1 = Category(name=\"cat1\")\n",
    "cat1.get()\n",
    "data = {\"name\":\"cat2\"}\n",
    "cat2 = Category(data)\n",
    "cat2.get()"
   ]
  },
  {
   "cell_type": "code",
   "execution_count": 3,
   "metadata": {},
   "outputs": [
    {
     "name": "stdout",
     "output_type": "stream",
     "text": [
      "cat1\n",
      "cat2\n"
     ]
    }
   ],
   "source": [
    "class Category:\n",
    "    def __init__(self, name):\n",
    "        self.name=name\n",
    "    def get(self):\n",
    "        print(self.name)\n",
    "cat1 = Category(name=\"cat1\")\n",
    "cat1.get()\n",
    "data = {\"name\":\"cat2\"}\n",
    "cat2 = Category(**data)# Category(name=\"cat2\")\n",
    "cat2.get()"
   ]
  },
  {
   "cell_type": "code",
   "execution_count": null,
   "metadata": {},
   "outputs": [],
   "source": []
  }
 ],
 "metadata": {
  "kernelspec": {
   "display_name": "Python 3",
   "language": "python",
   "name": "python3"
  },
  "language_info": {
   "codemirror_mode": {
    "name": "ipython",
    "version": 3
   },
   "file_extension": ".py",
   "mimetype": "text/x-python",
   "name": "python",
   "nbconvert_exporter": "python",
   "pygments_lexer": "ipython3",
   "version": "3.8.3"
  }
 },
 "nbformat": 4,
 "nbformat_minor": 4
}
